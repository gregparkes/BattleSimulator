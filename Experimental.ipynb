{
 "cells": [
  {
   "cell_type": "markdown",
   "metadata": {},
   "source": [
    "# Unit Simulation Experimental Notebook"
   ]
  },
  {
   "cell_type": "code",
   "execution_count": 1,
   "metadata": {},
   "outputs": [],
   "source": [
    "from IPython.display import HTML\n",
    "%matplotlib inline\n",
    "# our simulator\n",
    "import matplotlib.pyplot as plt\n",
    "import battlesim as bsm"
   ]
  },
  {
   "cell_type": "markdown",
   "metadata": {},
   "source": [
    "### Trial 1. 50 Clone Troopers vs. 80 B1 battledroids\n",
    "\n",
    "Using Random AI selection for targets."
   ]
  },
  {
   "cell_type": "code",
   "execution_count": 2,
   "metadata": {},
   "outputs": [
    {
     "data": {
      "text/plain": [
       "bsm.Battle(init=True, n_armies=3, simulated=False)"
      ]
     },
     "execution_count": 2,
     "metadata": {},
     "output_type": "execute_result"
    }
   ],
   "source": [
    "trial1 = bsm.Battle(\"datasets/starwars-clonewars.csv\")\n",
    "# define 100 battledroids, 50 clones\n",
    "trial1.create_army([(\"b1 battledroid\", 80), (\"Clone Trooper\", 20), (\"Clone Trooper\", 15)])\n",
    "# battle droids near (0, 0), clones near (10, 10)\n",
    "trial1.apply_position([\n",
    "    dict(name=\"uniform\", x_loc=-5., scale=2.),\n",
    "    dict(name=\"gaussian\", loc=0.),\n",
    "    dict(name=\"gaussian\", x_loc=4., y_loc=5.),\n",
    "])\n",
    "#init, rolling AIs now default to 'nearest'\n",
    "trial1.set_decision_ai([\"aggressive\",\"hit_and_run\",\"hit_and_run\"])\n",
    "# set terrain\n",
    "t1_terra = bsm.Terrain((-10., 20., -10., 20.), res=.5, form=\"contour\", dtype=\"perlin\")\n",
    "trial1.apply_terrain(t1_terra)"
   ]
  },
  {
   "cell_type": "code",
   "execution_count": 3,
   "metadata": {},
   "outputs": [
    {
     "data": {
      "image/png": "[encoded data removed]",
      "text/plain": [
       "<Figure size 576x432 with 1 Axes>"
      ]
     },
     "metadata": {
      "needs_background": "light"
     },
     "output_type": "display_data"
    }
   ],
   "source": [
    "t1_terra.generate().plot()"
   ]
  },
  {
   "cell_type": "code",
   "execution_count": 4,
   "metadata": {
    "scrolled": false
   },
   "outputs": [],
   "source": [
    "# run a battle\n",
    "F = trial1.simulate(max_step=1500)"
   ]
  },
  {
   "cell_type": "code",
   "execution_count": 5,
   "metadata": {},
   "outputs": [
    {
     "data": {
      "text/plain": [
       "Index         57040\n",
       "army           7130\n",
       "allegiance     7130\n",
       "alive          7130\n",
       "hp            28520\n",
       "armor         28520\n",
       "x             28520\n",
       "y             28520\n",
       "dir_x         28520\n",
       "dir_y         28520\n",
       "dtype: int64"
      ]
     },
     "execution_count": 5,
     "metadata": {},
     "output_type": "execute_result"
    }
   ],
   "source": [
    "F.memory_usage()"
   ]
  },
  {
   "cell_type": "code",
   "execution_count": 6,
   "metadata": {},
   "outputs": [
    {
     "data": {
      "text/plain": [
       "0.24955"
      ]
     },
     "execution_count": 6,
     "metadata": {},
     "output_type": "execute_result"
    }
   ],
   "source": [
    "F.memory_usage().sum()/1000000"
   ]
  },
  {
   "cell_type": "code",
   "execution_count": 9,
   "metadata": {
    "scrolled": false
   },
   "outputs": [],
   "source": [
    "trial1.sim_export()"
   ]
  },
  {
   "cell_type": "markdown",
   "metadata": {},
   "source": [
    "### Terrain tweaking"
   ]
  },
  {
   "cell_type": "code",
   "execution_count": 8,
   "metadata": {},
   "outputs": [],
   "source": [
    "import numpy as np\n",
    "from numba import njit, prange"
   ]
  },
  {
   "cell_type": "code",
   "execution_count": 9,
   "metadata": {},
   "outputs": [],
   "source": [
    "@njit\n",
    "def smooth_noise(noise, x, y, noisewidth=100, noiseheight=100):\n",
    "    # get fractional part\n",
    "    fractX = x - int(x)\n",
    "    fractY = y - int(y)\n",
    "    # wrap\n",
    "    x1 = (int(x) + noisewidth) % noisewidth\n",
    "    y1 = (int(y) + noiseheight) % noiseheight\n",
    "    # neighbor values\n",
    "    x2 = (x1 + noisewidth - 1) % noisewidth\n",
    "    y2 = (y1 + noiseheight - 1) % noiseheight\n",
    "    # smooth the noise with bilinear interpolation\n",
    "    val = 0.\n",
    "    val += fractX*fractY*noise[y1, x1]\n",
    "    val += (1-fractX)*fractY*noise[y1, x2]\n",
    "    val += fractX*(1-fractY)*noise[y2,x1]\n",
    "    val += (1-fractX)*(1-fractY)*noise[y2,x2]\n",
    "    return val\n",
    "\n",
    "@njit\n",
    "def turbulence(noise, x, y, size, dim_x, dim_y):\n",
    "    val = 0.\n",
    "    init_size = size\n",
    "    while size >= 1:\n",
    "        val += smooth_noise(noise, x / size, y / size, dim_x, dim_y) * size\n",
    "        size /= 2.\n",
    "    return 128 * val / init_size"
   ]
  },
  {
   "cell_type": "code",
   "execution_count": 10,
   "metadata": {},
   "outputs": [],
   "source": [
    "@njit\n",
    "def create_turbulence_map(dim_x, dim_y, size=30):\n",
    "    \"\"\"\"\"\"\n",
    "    base_noise = np.random.rand(dim_x, dim_y)\n",
    "    noise = np.random.rand(dim_x, dim_y)\n",
    "    for x in range(dim_x):\n",
    "        for y in range(dim_y):\n",
    "            noise[x, y] = turbulence(base_noise, x, y, size, dim_x, dim_y)\n",
    "    return noise"
   ]
  },
  {
   "cell_type": "code",
   "execution_count": 24,
   "metadata": {
    "scrolled": true
   },
   "outputs": [
    {
     "data": {
      "text/plain": [
       "<matplotlib.colorbar.Colorbar at 0x14de50adb50>"
      ]
     },
     "execution_count": 24,
     "metadata": {},
     "output_type": "execute_result"
    },
    {
     "data": {
      "image/png": "[encoded data removed]",
      "text/plain": [
       "<Figure size 432x288 with 2 Axes>"
      ]
     },
     "metadata": {
      "needs_background": "light"
     },
     "output_type": "display_data"
    }
   ],
   "source": [
    "plt.pcolormesh(create_turbulence_map(100, 100, 50), cmap=\"gray\")\n",
    "plt.colorbar()"
   ]
  },
  {
   "cell_type": "code",
   "execution_count": 10,
   "metadata": {},
   "outputs": [
    {
     "ename": "NameError",
     "evalue": "name 'np' is not defined",
     "output_type": "error",
     "traceback": [
      "\u001b[1;31m---------------------------------------------------------------------------\u001b[0m",
      "\u001b[1;31mNameError\u001b[0m                                 Traceback (most recent call last)",
      "\u001b[1;32m~\\AppData\\Local\\Temp/ipykernel_14352/2952807446.py\u001b[0m in \u001b[0;36m<module>\u001b[1;34m\u001b[0m\n\u001b[1;32m----> 1\u001b[1;33m \u001b[0mX\u001b[0m\u001b[1;33m,\u001b[0m \u001b[0mY\u001b[0m \u001b[1;33m=\u001b[0m \u001b[0mnp\u001b[0m\u001b[1;33m.\u001b[0m\u001b[0mmgrid\u001b[0m\u001b[1;33m[\u001b[0m\u001b[1;36m0\u001b[0m\u001b[1;33m:\u001b[0m\u001b[1;36m10\u001b[0m\u001b[1;33m:\u001b[0m\u001b[1;36m.1\u001b[0m\u001b[1;33m,\u001b[0m \u001b[1;36m0\u001b[0m\u001b[1;33m:\u001b[0m\u001b[1;36m10\u001b[0m\u001b[1;33m:\u001b[0m\u001b[1;36m.1\u001b[0m\u001b[1;33m]\u001b[0m\u001b[1;33m\u001b[0m\u001b[1;33m\u001b[0m\u001b[0m\n\u001b[0m\u001b[0;32m      2\u001b[0m \u001b[0mplt\u001b[0m\u001b[1;33m.\u001b[0m\u001b[0mcontourf\u001b[0m\u001b[1;33m(\u001b[0m\u001b[0mX\u001b[0m\u001b[1;33m,\u001b[0m \u001b[0mY\u001b[0m\u001b[1;33m,\u001b[0m \u001b[0mcreate_turbulence_map\u001b[0m\u001b[1;33m(\u001b[0m\u001b[1;36m100\u001b[0m\u001b[1;33m,\u001b[0m \u001b[1;36m100\u001b[0m\u001b[1;33m)\u001b[0m\u001b[1;33m,\u001b[0m \u001b[0mcmap\u001b[0m\u001b[1;33m=\u001b[0m\u001b[1;34m\"gray_r\"\u001b[0m\u001b[1;33m)\u001b[0m\u001b[1;33m\u001b[0m\u001b[1;33m\u001b[0m\u001b[0m\n",
      "\u001b[1;31mNameError\u001b[0m: name 'np' is not defined"
     ]
    }
   ],
   "source": [
    "X, Y = np.mgrid[0:10:.1, 0:10:.1]\n",
    "plt.contourf(X, Y, create_turbulence_map(100, 100), cmap=\"gray_r\")"
   ]
  },
  {
   "cell_type": "code",
   "execution_count": 114,
   "metadata": {},
   "outputs": [],
   "source": []
  }
 ],
 "metadata": {
  "kernelspec": {
   "display_name": "Python 3 (ipykernel)",
   "language": "python",
   "name": "python3"
  },
  "language_info": {
   "codemirror_mode": {
    "name": "ipython",
    "version": 3
   },
   "file_extension": ".py",
   "mimetype": "text/x-python",
   "name": "python",
   "nbconvert_exporter": "python",
   "pygments_lexer": "ipython3",
   "version": "3.9.7"
  }
 },
 "nbformat": 4,
 "nbformat_minor": 2
}
