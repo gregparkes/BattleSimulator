{
 "cells": [
  {
   "cell_type": "markdown",
   "metadata": {},
   "source": [
    "# Unit Simulation Experimental Notebook"
   ]
  },
  {
   "cell_type": "code",
   "execution_count": 1,
   "metadata": {},
   "outputs": [],
   "source": [
    "from IPython.display import HTML\n",
    "%matplotlib inline\n",
    "# our simulator\n",
    "import matplotlib.pyplot as plt\n",
    "import battlesim as bsm"
   ]
  },
  {
   "cell_type": "markdown",
   "metadata": {},
   "source": [
    "### Trial 1. 50 Clone Troopers vs. 80 B1 battledroids\n",
    "\n",
    "Using Random AI selection for targets."
   ]
  },
  {
   "cell_type": "code",
   "execution_count": 2,
   "metadata": {},
   "outputs": [
    {
     "data": {
      "text/plain": [
       "bsm.Battle(init=True, n_armies=3, simulated=False)"
      ]
     },
     "execution_count": 2,
     "metadata": {},
     "output_type": "execute_result"
    }
   ],
   "source": [
    "trial1 = bsm.Battle(\"datasets/starwars-clonewars.csv\")\n",
    "# define 100 battledroids, 50 clones\n",
    "trial1.create_army([(\"b1 battledroid\", 80), (\"Clone Trooper\", 20), (\"Clone Trooper\", 15)])\n",
    "# battle droids near (0, 0), clones near (10, 10)\n",
    "trial1.apply_position([\n",
    "    dict(name=\"uniform\", x_loc=-5., scale=2.),\n",
    "    dict(name=\"gaussian\", loc=0.),\n",
    "    dict(name=\"gaussian\", x_loc=4., y_loc=5.),\n",
    "])\n",
    "#init, rolling AIs now default to 'nearest'\n",
    "trial1.set_decision_ai([\"aggressive\",\"hit_and_run\",\"hit_and_run\"])\n",
    "# set terrain\n",
    "t1_terra = bsm.Terrain((-10., 20., -10., 20.), res=.5, form=\"contour\", dtype=\"perlin\")\n",
    "trial1.apply_terrain(t1_terra)"
   ]
  },
  {
   "cell_type": "code",
   "execution_count": 3,
   "metadata": {},
   "outputs": [
    {
     "data": {
      "image/png": "[encoded data removed]",
      "text/plain": [
       "<Figure size 576x432 with 1 Axes>"
      ]
     },
     "metadata": {
      "needs_background": "light"
     },
     "output_type": "display_data"
    }
   ],
   "source": [
    "t1_terra.generate().plot()"
   ]
  },
  {
   "cell_type": "code",
   "execution_count": 4,
   "metadata": {
    "scrolled": false
   },
   "outputs": [],
   "source": [
    "# run a battle\n",
    "F = trial1.simulate(max_step=1500)"
   ]
  },
  {
   "cell_type": "code",
   "execution_count": 5,
   "metadata": {},
   "outputs": [
    {
     "data": {
      "text/plain": [
       "Index         57040\n",
       "army           7130\n",
       "allegiance     7130\n",
       "alive          7130\n",
       "hp            28520\n",
       "armor         28520\n",
       "x             28520\n",
       "y             28520\n",
       "dir_x         28520\n",
       "dir_y         28520\n",
       "dtype: int64"
      ]
     },
     "execution_count": 5,
     "metadata": {},
     "output_type": "execute_result"
    }
   ],
   "source": [
    "F.memory_usage()"
   ]
  },
  {
   "cell_type": "code",
   "execution_count": 6,
   "metadata": {},
   "outputs": [
    {
     "data": {
      "text/plain": [
       "0.24955"
      ]
     },
     "execution_count": 6,
     "metadata": {},
     "output_type": "execute_result"
    }
   ],
   "source": [
    "F.memory_usage().sum()/1000000"
   ]
  }
 ],
 "metadata": {
  "kernelspec": {
   "display_name": "Python 3 (ipykernel)",
   "language": "python",
   "name": "python3"
  },
  "language_info": {
   "codemirror_mode": {
    "name": "ipython",
    "version": 3
   },
   "file_extension": ".py",
   "mimetype": "text/x-python",
   "name": "python",
   "nbconvert_exporter": "python",
   "pygments_lexer": "ipython3",
   "version": "3.9.7"
  }
 },
 "nbformat": 4,
 "nbformat_minor": 2
}
