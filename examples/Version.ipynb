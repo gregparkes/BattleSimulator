{
 "cells": [
  {
   "cell_type": "markdown",
   "metadata": {},
   "source": [
    "# Versions current for `battlesim` environment\n",
    "\n",
    "`battlesim` requires the following dependencies (currently):\n",
    "\n",
    "- Python (>=3.5)\n",
    "- NumPy (>=1.11.0)\n",
    "- Pandas (>=0.25.1)\n",
    "- Matplotlib (>=3.1.1)\n",
    "- Numba (>=0.45)\n",
    "\n",
    "With testing:\n",
    "\n",
    "- PyTest (5.1.2)"
   ]
  },
  {
   "cell_type": "code",
   "execution_count": 1,
   "metadata": {},
   "outputs": [],
   "source": [
    "import sys\n",
    "import numpy as np\n",
    "import pandas as pd\n",
    "import matplotlib\n",
    "import numba\n",
    "import pytest"
   ]
  },
  {
   "cell_type": "code",
   "execution_count": 2,
   "metadata": {},
   "outputs": [
    {
     "data": {
      "text/plain": [
       "{'python': '3.7.4 (default, Aug 13 2019, 20:35:49) \\n[GCC 7.3.0]',\n",
       " 'numpy': '1.16.5',\n",
       " 'pandas': '0.25.1',\n",
       " 'scipy': '1.3.1',\n",
       " 'matplotlib': '3.1.1',\n",
       " 'numba': '0.45.1',\n",
       " 'pytest': '5.1.2'}"
      ]
     },
     "execution_count": 2,
     "metadata": {},
     "output_type": "execute_result"
    }
   ],
   "source": [
    "{\n",
    "    \"python\": sys.version,\n",
    "    \"numpy\": np.__version__,\n",
    "    \"pandas\": pd.__version__,\n",
    "    \"matplotlib\": matplotlib.__version__,\n",
    "    \"numba\": numba.__version__,\n",
    "    \"pytest\": pytest.__version__\n",
    "}"
   ]
  },
  {
   "cell_type": "code",
   "execution_count": null,
   "metadata": {},
   "outputs": [],
   "source": []
  }
 ],
 "metadata": {
  "kernelspec": {
   "display_name": "Python 3 (ipykernel)",
   "language": "python",
   "name": "python3"
  },
  "language_info": {
   "codemirror_mode": {
    "name": "ipython",
    "version": 3
   },
   "file_extension": ".py",
   "mimetype": "text/x-python",
   "name": "python",
   "nbconvert_exporter": "python",
   "pygments_lexer": "ipython3",
   "version": "3.9.7"
  }
 },
 "nbformat": 4,
 "nbformat_minor": 2
}
