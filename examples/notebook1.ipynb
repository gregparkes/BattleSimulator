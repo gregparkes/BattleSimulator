{
 "cells": [
  {
   "cell_type": "markdown",
   "metadata": {},
   "source": [
    "# Notebook 1: Basic Example\n",
    "\n",
    "Here we will introduce a basic example of how **BATTLESIMULATOR** works and can be of benefit to you.\n",
    "\n",
    "### Requirements:\n",
    "\n",
    "- `numpy`\n",
    "- `pandas`\n",
    "- `matplotlib`\n",
    "- `scipy.stats`\n",
    "- `numba`"
   ]
  },
  {
   "cell_type": "code",
   "execution_count": 1,
   "metadata": {},
   "outputs": [],
   "source": [
    "import sys\n",
    "# map path back to the directory above battlesim/\n",
    "sys.path.insert(0,\"../\")\n",
    "# our main import\n",
    "import battlesim as bsm"
   ]
  },
  {
   "cell_type": "markdown",
   "metadata": {},
   "source": [
    "### Other Imports"
   ]
  },
  {
   "cell_type": "code",
   "execution_count": 2,
   "metadata": {},
   "outputs": [],
   "source": [
    "from IPython.display import HTML\n",
    "%matplotlib inline"
   ]
  },
  {
   "cell_type": "markdown",
   "metadata": {},
   "source": [
    "## Create a Battle using the CloneWars Dataset"
   ]
  },
  {
   "cell_type": "code",
   "execution_count": 3,
   "metadata": {},
   "outputs": [
    {
     "data": {
      "text/plain": [
       "bsm.Battle(init=False)"
      ]
     },
     "execution_count": 3,
     "metadata": {},
     "output_type": "execute_result"
    }
   ],
   "source": [
    "battle = bsm.Battle(\"../datasets/starwars-clonewars.csv\")\n",
    "battle"
   ]
  },
  {
   "cell_type": "markdown",
   "metadata": {},
   "source": [
    "### Within the `db_` object, we can see the table of information\n",
    "\n",
    "This table represents the *knowledge* or statistics of each unit. These can be your own values/unit names, but the following column names **MUST** be present and the same within your own file, ideally in `.csv` file format."
   ]
  },
  {
   "cell_type": "code",
   "execution_count": 4,
   "metadata": {},
   "outputs": [
    {
     "data": {
      "text/html": [
       "<div>\n",
       "<style scoped>\n",
       "    .dataframe tbody tr th:only-of-type {\n",
       "        vertical-align: middle;\n",
       "    }\n",
       "\n",
       "    .dataframe tbody tr th {\n",
       "        vertical-align: top;\n",
       "    }\n",
       "\n",
       "    .dataframe thead th {\n",
       "        text-align: right;\n",
       "    }\n",
       "</style>\n",
       "<table border=\"1\" class=\"dataframe\">\n",
       "  <thead>\n",
       "    <tr style=\"text-align: right;\">\n",
       "      <th></th>\n",
       "      <th>Allegiance</th>\n",
       "      <th>Type</th>\n",
       "      <th>Armor</th>\n",
       "      <th>HP</th>\n",
       "      <th>Damage</th>\n",
       "      <th>Dmg Speed</th>\n",
       "      <th>Range</th>\n",
       "      <th>Movement Speed</th>\n",
       "      <th>Accuracy</th>\n",
       "      <th>Miss</th>\n",
       "      <th>Shield</th>\n",
       "      <th>Shield Regen</th>\n",
       "      <th>allegiance_int</th>\n",
       "    </tr>\n",
       "    <tr>\n",
       "      <th>Name</th>\n",
       "      <th></th>\n",
       "      <th></th>\n",
       "      <th></th>\n",
       "      <th></th>\n",
       "      <th></th>\n",
       "      <th></th>\n",
       "      <th></th>\n",
       "      <th></th>\n",
       "      <th></th>\n",
       "      <th></th>\n",
       "      <th></th>\n",
       "      <th></th>\n",
       "      <th></th>\n",
       "    </tr>\n",
       "  </thead>\n",
       "  <tbody>\n",
       "    <tr>\n",
       "      <th>local militia</th>\n",
       "      <td>Republic</td>\n",
       "      <td>Standard</td>\n",
       "      <td>15</td>\n",
       "      <td>20</td>\n",
       "      <td>10</td>\n",
       "      <td>1.00</td>\n",
       "      <td>2.0</td>\n",
       "      <td>0.6</td>\n",
       "      <td>5</td>\n",
       "      <td>30</td>\n",
       "      <td>0</td>\n",
       "      <td>0.00</td>\n",
       "      <td>0</td>\n",
       "    </tr>\n",
       "    <tr>\n",
       "      <th>b1 battledroid</th>\n",
       "      <td>CIS</td>\n",
       "      <td>Standard</td>\n",
       "      <td>40</td>\n",
       "      <td>20</td>\n",
       "      <td>15</td>\n",
       "      <td>1.00</td>\n",
       "      <td>2.5</td>\n",
       "      <td>0.5</td>\n",
       "      <td>30</td>\n",
       "      <td>35</td>\n",
       "      <td>0</td>\n",
       "      <td>0.00</td>\n",
       "      <td>1</td>\n",
       "    </tr>\n",
       "    <tr>\n",
       "      <th>clone trooper</th>\n",
       "      <td>Republic</td>\n",
       "      <td>Standard</td>\n",
       "      <td>45</td>\n",
       "      <td>35</td>\n",
       "      <td>16</td>\n",
       "      <td>1.20</td>\n",
       "      <td>3.0</td>\n",
       "      <td>0.7</td>\n",
       "      <td>65</td>\n",
       "      <td>65</td>\n",
       "      <td>0</td>\n",
       "      <td>0.00</td>\n",
       "      <td>0</td>\n",
       "    </tr>\n",
       "    <tr>\n",
       "      <th>b2 battledroid</th>\n",
       "      <td>CIS</td>\n",
       "      <td>Standard</td>\n",
       "      <td>100</td>\n",
       "      <td>40</td>\n",
       "      <td>20</td>\n",
       "      <td>1.20</td>\n",
       "      <td>3.5</td>\n",
       "      <td>0.4</td>\n",
       "      <td>70</td>\n",
       "      <td>40</td>\n",
       "      <td>0</td>\n",
       "      <td>0.00</td>\n",
       "      <td>1</td>\n",
       "    </tr>\n",
       "    <tr>\n",
       "      <th>arc trooper</th>\n",
       "      <td>Republic</td>\n",
       "      <td>Elite</td>\n",
       "      <td>100</td>\n",
       "      <td>100</td>\n",
       "      <td>20</td>\n",
       "      <td>0.90</td>\n",
       "      <td>5.0</td>\n",
       "      <td>1.0</td>\n",
       "      <td>90</td>\n",
       "      <td>95</td>\n",
       "      <td>0</td>\n",
       "      <td>0.00</td>\n",
       "      <td>0</td>\n",
       "    </tr>\n",
       "    <tr>\n",
       "      <th>bx-series droid commando</th>\n",
       "      <td>CIS</td>\n",
       "      <td>Elite</td>\n",
       "      <td>70</td>\n",
       "      <td>50</td>\n",
       "      <td>22</td>\n",
       "      <td>1.30</td>\n",
       "      <td>7.0</td>\n",
       "      <td>0.8</td>\n",
       "      <td>70</td>\n",
       "      <td>95</td>\n",
       "      <td>0</td>\n",
       "      <td>0.00</td>\n",
       "      <td>1</td>\n",
       "    </tr>\n",
       "    <tr>\n",
       "      <th>clone sharpshooter</th>\n",
       "      <td>Republic</td>\n",
       "      <td>Specialist</td>\n",
       "      <td>50</td>\n",
       "      <td>40</td>\n",
       "      <td>50</td>\n",
       "      <td>0.20</td>\n",
       "      <td>15.0</td>\n",
       "      <td>0.2</td>\n",
       "      <td>60</td>\n",
       "      <td>40</td>\n",
       "      <td>0</td>\n",
       "      <td>0.00</td>\n",
       "      <td>0</td>\n",
       "    </tr>\n",
       "    <tr>\n",
       "      <th>battle droid assassin</th>\n",
       "      <td>CIS</td>\n",
       "      <td>Specialist</td>\n",
       "      <td>60</td>\n",
       "      <td>20</td>\n",
       "      <td>50</td>\n",
       "      <td>0.15</td>\n",
       "      <td>15.0</td>\n",
       "      <td>0.2</td>\n",
       "      <td>55</td>\n",
       "      <td>45</td>\n",
       "      <td>0</td>\n",
       "      <td>0.00</td>\n",
       "      <td>1</td>\n",
       "    </tr>\n",
       "    <tr>\n",
       "      <th>clone commando</th>\n",
       "      <td>Republic</td>\n",
       "      <td>Elite</td>\n",
       "      <td>100</td>\n",
       "      <td>120</td>\n",
       "      <td>20</td>\n",
       "      <td>1.50</td>\n",
       "      <td>3.0</td>\n",
       "      <td>0.9</td>\n",
       "      <td>97</td>\n",
       "      <td>97</td>\n",
       "      <td>30</td>\n",
       "      <td>0.20</td>\n",
       "      <td>0</td>\n",
       "    </tr>\n",
       "    <tr>\n",
       "      <th>t-series tactical droid</th>\n",
       "      <td>CIS</td>\n",
       "      <td>Elite</td>\n",
       "      <td>200</td>\n",
       "      <td>50</td>\n",
       "      <td>22</td>\n",
       "      <td>1.50</td>\n",
       "      <td>3.0</td>\n",
       "      <td>0.7</td>\n",
       "      <td>95</td>\n",
       "      <td>90</td>\n",
       "      <td>100</td>\n",
       "      <td>0.18</td>\n",
       "      <td>1</td>\n",
       "    </tr>\n",
       "    <tr>\n",
       "      <th>magmaguard</th>\n",
       "      <td>CIS</td>\n",
       "      <td>Elite</td>\n",
       "      <td>400</td>\n",
       "      <td>150</td>\n",
       "      <td>200</td>\n",
       "      <td>0.15</td>\n",
       "      <td>0.4</td>\n",
       "      <td>0.4</td>\n",
       "      <td>100</td>\n",
       "      <td>40</td>\n",
       "      <td>0</td>\n",
       "      <td>NaN</td>\n",
       "      <td>1</td>\n",
       "    </tr>\n",
       "  </tbody>\n",
       "</table>\n",
       "</div>"
      ],
      "text/plain": [
       "                         Allegiance        Type  Armor   HP  Damage  \\\n",
       "Name                                                                  \n",
       "local militia              Republic    Standard     15   20      10   \n",
       "b1 battledroid                  CIS    Standard     40   20      15   \n",
       "clone trooper              Republic    Standard     45   35      16   \n",
       "b2 battledroid                  CIS    Standard    100   40      20   \n",
       "arc trooper                Republic       Elite    100  100      20   \n",
       "bx-series droid commando        CIS       Elite     70   50      22   \n",
       "clone sharpshooter         Republic  Specialist     50   40      50   \n",
       "battle droid assassin           CIS  Specialist     60   20      50   \n",
       "clone commando             Republic       Elite    100  120      20   \n",
       "t-series tactical droid         CIS       Elite    200   50      22   \n",
       "magmaguard                      CIS       Elite    400  150     200   \n",
       "\n",
       "                          Dmg Speed  Range  Movement Speed  Accuracy  Miss  \\\n",
       "Name                                                                         \n",
       "local militia                  1.00    2.0             0.6         5    30   \n",
       "b1 battledroid                 1.00    2.5             0.5        30    35   \n",
       "clone trooper                  1.20    3.0             0.7        65    65   \n",
       "b2 battledroid                 1.20    3.5             0.4        70    40   \n",
       "arc trooper                    0.90    5.0             1.0        90    95   \n",
       "bx-series droid commando       1.30    7.0             0.8        70    95   \n",
       "clone sharpshooter             0.20   15.0             0.2        60    40   \n",
       "battle droid assassin          0.15   15.0             0.2        55    45   \n",
       "clone commando                 1.50    3.0             0.9        97    97   \n",
       "t-series tactical droid        1.50    3.0             0.7        95    90   \n",
       "magmaguard                     0.15    0.4             0.4       100    40   \n",
       "\n",
       "                          Shield  Shield Regen  allegiance_int  \n",
       "Name                                                            \n",
       "local militia                  0          0.00               0  \n",
       "b1 battledroid                 0          0.00               1  \n",
       "clone trooper                  0          0.00               0  \n",
       "b2 battledroid                 0          0.00               1  \n",
       "arc trooper                    0          0.00               0  \n",
       "bx-series droid commando       0          0.00               1  \n",
       "clone sharpshooter             0          0.00               0  \n",
       "battle droid assassin          0          0.00               1  \n",
       "clone commando                30          0.20               0  \n",
       "t-series tactical droid      100          0.18               1  \n",
       "magmaguard                     0           NaN               1  "
      ]
     },
     "execution_count": 4,
     "metadata": {},
     "output_type": "execute_result"
    }
   ],
   "source": [
    "battle.db_"
   ]
  },
  {
   "cell_type": "markdown",
   "metadata": {},
   "source": [
    "    mutable_vars = [\"x\", \"y\", 'Armor', \"HP\", \"Range\", \"Shield\"]\n",
    "    immutable_vars = [\"Damage\", \"Dmg Speed\", \"Movement Speed\", \"Accuracy\", \"Miss\", \"Shield Regen\", \"Allegiance\", \"Type\"]"
   ]
  },
  {
   "cell_type": "markdown",
   "metadata": {},
   "source": [
    "## Initialise\n",
    "\n",
    "The other elements within `battle` are not initialized yet, we need to *declare groups of units* using the names on the columns above, followed by the number of that unit we wish to use.\n",
    "\n",
    "More than one **army** can be created in a function call. *Case is ignored*.\n",
    "\n",
    "`create_army()` returns the `Battle` object to allow for function-chaining.\n",
    "\n",
    "Multiple calls to `create_army()` override the previous calls, so armies are not *stacked*."
   ]
  },
  {
   "cell_type": "code",
   "execution_count": 5,
   "metadata": {
    "scrolled": true
   },
   "outputs": [
    {
     "data": {
      "text/plain": [
       "bsm.Battle(init=True, n_armies=2, simulated=False)"
      ]
     },
     "execution_count": 5,
     "metadata": {},
     "output_type": "execute_result"
    }
   ],
   "source": [
    "battle.create_army([(\"b1 battledroid\", 10), (\"clone trooper\", 5)])"
   ]
  },
  {
   "cell_type": "markdown",
   "metadata": {},
   "source": [
    "### We can view the armies we have stored:"
   ]
  },
  {
   "cell_type": "code",
   "execution_count": 6,
   "metadata": {},
   "outputs": [
    {
     "data": {
      "text/plain": [
       "(('b1 battledroid', 10), ('clone trooper', 5))"
      ]
     },
     "execution_count": 6,
     "metadata": {},
     "output_type": "execute_result"
    }
   ],
   "source": [
    "battle.army_set_"
   ]
  },
  {
   "cell_type": "code",
   "execution_count": 7,
   "metadata": {},
   "outputs": [
    {
     "data": {
      "text/plain": [
       "array([0.7], dtype=float32)"
      ]
     },
     "execution_count": 7,
     "metadata": {},
     "output_type": "execute_result"
    }
   ],
   "source": [
    "battle.S_[battle.S_['id']==1]['speed']"
   ]
  },
  {
   "cell_type": "code",
   "execution_count": 8,
   "metadata": {},
   "outputs": [
    {
     "data": {
      "text/plain": [
       "array([20.5, 20.5, 20.5, 20.5, 20.5, 20.5, 20.5, 20.5, 20.5, 20.5],\n",
       "      dtype=float32)"
      ]
     },
     "execution_count": 8,
     "metadata": {},
     "output_type": "execute_result"
    }
   ],
   "source": [
    "battle.M_[battle.M_['id'] == 0]['hp'] + battle.S_[battle.S_['id']==0]['speed']"
   ]
  },
  {
   "cell_type": "markdown",
   "metadata": {},
   "source": [
    "### We can view the composition:\n",
    "\n",
    "You notice that we have some interesting columns that detail what each 'army' is doing:\n",
    "\n",
    "1. *position*: this defines how to spawn the unit, i.e with a normal distribution\n",
    "2. *init_ai*: this defines how the army will find the nearest enemy at the start\n",
    "3. *rolling_ai*: this defines how the army will find the nearest enemy throughout simulation progression\n",
    "4. *decision_ai*: a broad suite of AI algorithms that define how the 'army' behaves. by default they act aggressively by chasing the enemy."
   ]
  },
  {
   "cell_type": "code",
   "execution_count": 9,
   "metadata": {},
   "outputs": [
    {
     "data": {
      "text/html": [
       "<div>\n",
       "<style scoped>\n",
       "    .dataframe tbody tr th:only-of-type {\n",
       "        vertical-align: middle;\n",
       "    }\n",
       "\n",
       "    .dataframe tbody tr th {\n",
       "        vertical-align: top;\n",
       "    }\n",
       "\n",
       "    .dataframe thead th {\n",
       "        text-align: right;\n",
       "    }\n",
       "</style>\n",
       "<table border=\"1\" class=\"dataframe\">\n",
       "  <thead>\n",
       "    <tr style=\"text-align: right;\">\n",
       "      <th></th>\n",
       "      <th>unit</th>\n",
       "      <th>allegiance</th>\n",
       "      <th>n</th>\n",
       "      <th>position</th>\n",
       "      <th>init_ai</th>\n",
       "      <th>rolling_ai</th>\n",
       "      <th>decision_ai</th>\n",
       "    </tr>\n",
       "  </thead>\n",
       "  <tbody>\n",
       "    <tr>\n",
       "      <th>0</th>\n",
       "      <td>b1 battledroid</td>\n",
       "      <td>CIS</td>\n",
       "      <td>10</td>\n",
       "      <td>norm (0.0, 0.0)</td>\n",
       "      <td>nearest</td>\n",
       "      <td>nearest</td>\n",
       "      <td>aggressive</td>\n",
       "    </tr>\n",
       "    <tr>\n",
       "      <th>1</th>\n",
       "      <td>clone trooper</td>\n",
       "      <td>Republic</td>\n",
       "      <td>5</td>\n",
       "      <td>norm (2.0, 2.0)</td>\n",
       "      <td>nearest</td>\n",
       "      <td>nearest</td>\n",
       "      <td>aggressive</td>\n",
       "    </tr>\n",
       "  </tbody>\n",
       "</table>\n",
       "</div>"
      ],
      "text/plain": [
       "             unit allegiance   n         position  init_ai rolling_ai  \\\n",
       "0  b1 battledroid        CIS  10  norm (0.0, 0.0)  nearest    nearest   \n",
       "1   clone trooper   Republic   5  norm (2.0, 2.0)  nearest    nearest   \n",
       "\n",
       "  decision_ai  \n",
       "0  aggressive  \n",
       "1  aggressive  "
      ]
     },
     "execution_count": 9,
     "metadata": {},
     "output_type": "execute_result"
    }
   ],
   "source": [
    "battle.composition_"
   ]
  },
  {
   "cell_type": "markdown",
   "metadata": {},
   "source": [
    "### Internally, a matrix `M` is created:\n",
    "\n",
    "Here the *M* stands for mutability.\n",
    "\n",
    "This enables efficiency when we call simulation functions, to have it within **numpy arrays**."
   ]
  },
  {
   "cell_type": "markdown",
   "metadata": {},
   "source": [
    "We can specifically view the columns available by checking the custom dtype:"
   ]
  },
  {
   "cell_type": "code",
   "execution_count": 10,
   "metadata": {},
   "outputs": [
    {
     "data": {
      "text/plain": [
       "array([(0, 0,  0.33497703,  1.2714309 , 20., 40., 15., 2.5, 0.5, 0.3 , 0.35, 0, 1, 1),\n",
       "       (0, 0, -0.98912764, -0.17186537, 20., 40., 15., 2.5, 0.5, 0.3 , 0.35, 0, 1, 1),\n",
       "       (0, 0, -0.9158731 , -0.73771995, 20., 40., 15., 2.5, 0.5, 0.3 , 0.35, 0, 1, 1),\n",
       "       (0, 0,  1.5699708 , -0.13416363, 20., 40., 15., 2.5, 0.5, 0.3 , 0.35, 0, 1, 1),\n",
       "       (0, 0, -0.9988333 ,  2.5834782 , 20., 40., 15., 2.5, 0.5, 0.3 , 0.35, 0, 1, 1),\n",
       "       (0, 0,  0.85170835, -2.2048523 , 20., 40., 15., 2.5, 0.5, 0.3 , 0.35, 0, 1, 1),\n",
       "       (0, 0, -1.4687183 ,  0.9730145 , 20., 40., 15., 2.5, 0.5, 0.3 , 0.35, 0, 1, 1),\n",
       "       (0, 0, -0.07147288,  0.18339026, 20., 40., 15., 2.5, 0.5, 0.3 , 0.35, 0, 1, 1),\n",
       "       (0, 0,  0.31420445,  2.0974405 , 20., 40., 15., 2.5, 0.5, 0.3 , 0.35, 0, 1, 1),\n",
       "       (0, 0,  0.46670845, -0.38236445, 20., 40., 15., 2.5, 0.5, 0.3 , 0.35, 0, 1, 1),\n",
       "       (1, 0,  1.9280778 ,  1.7862633 , 35., 45., 16., 3. , 0.7, 0.65, 0.65, 0, 2, 0),\n",
       "       (1, 0,  2.2421486 ,  2.8067296 , 35., 45., 16., 3. , 0.7, 0.65, 0.65, 0, 2, 0),\n",
       "       (1, 0,  1.7202935 , -0.09939885, 35., 45., 16., 3. , 0.7, 0.65, 0.65, 0, 2, 0),\n",
       "       (1, 0,  1.7601739 ,  2.7079432 , 35., 45., 16., 3. , 0.7, 0.65, 0.65, 0, 2, 0),\n",
       "       (1, 0,  1.2606908 ,  1.615427  , 35., 45., 16., 3. , 0.7, 0.65, 0.65, 0, 2, 0)],\n",
       "      dtype={'names':['id','target','x','y','hp','armor','dmg','range','speed','acc','dodge','group','utype','team'], 'formats':['<u4','<u4','<f4','<f4','<f4','<f4','<f4','<f4','<f4','<f4','<f4','u1','u1','u1'], 'offsets':[0,4,8,12,16,20,24,28,32,36,40,44,45,46], 'itemsize':48, 'aligned':True})"
      ]
     },
     "execution_count": 10,
     "metadata": {},
     "output_type": "execute_result"
    }
   ],
   "source": [
    "battle.M_"
   ]
  },
  {
   "cell_type": "markdown",
   "metadata": {},
   "source": [
    "### Considering static information\n",
    "\n",
    "In addition to dynamically changing variables, we also need to reference unchanging data such as base damage, base speed and so on. This is held within the `S_` matrix:"
   ]
  },
  {
   "cell_type": "code",
   "execution_count": 11,
   "metadata": {},
   "outputs": [
    {
     "data": {
      "text/plain": [
       "array([(0, 15., 2.5, 0.5, 0.3 , 0.35, 0, 1, 1),\n",
       "       (1, 16., 3. , 0.7, 0.65, 0.65, 0, 2, 0)],\n",
       "      dtype={'names':['id','dmg','range','speed','acc','dodge','group','utype','team'], 'formats':['<u4','<f4','<f4','<f4','<f4','<f4','u1','u1','u1'], 'offsets':[0,4,8,12,16,20,24,25,26], 'itemsize':28, 'aligned':True})"
      ]
     },
     "execution_count": 11,
     "metadata": {},
     "output_type": "execute_result"
    }
   ],
   "source": [
    "battle.S_"
   ]
  },
  {
   "cell_type": "markdown",
   "metadata": {},
   "source": [
    "## Changing Attributes\n",
    "\n",
    "Right now, despite the fact that we have two *army groups* who will attack each other, they currently sit on top of each other as they are randomly distributed around $(0, 0)$. \n",
    "\n",
    "To change this, we need to *apply positioning* to each army group. There are several ways to do this:\n",
    "\n",
    "1. Create `Distribution` objects for each army group. A Distribution is based on a statistical distribution such as normal, uniform or other, with given parameters.\n",
    "2. Define distributions using the parameters found in certain `scipy.stats.*` distributions.\n",
    "3. Use a premade *distribution function* within the `Battle` object and simply pass the statistical parameters desired. Note that these functions are **deprecated**.\n",
    "\n",
    "Multiple calls to `apply_position_*` will **override** previous calls.\n",
    "\n",
    "I personally prefer passing dictionaries for each army group, giving the name/id/dist name, with associated parameters. You can also specify to separate $x$ and $y$ parameters using `x_` or `y_` as prefixes to the parameter you wish to adjust. These can be suffixes instead."
   ]
  },
  {
   "cell_type": "code",
   "execution_count": 12,
   "metadata": {},
   "outputs": [
    {
     "data": {
      "text/plain": [
       "bsm.Battle(init=True, n_armies=2, simulated=False)"
      ]
     },
     "execution_count": 12,
     "metadata": {},
     "output_type": "execute_result"
    }
   ],
   "source": [
    "battle.apply_position([\n",
    "    dict(name=\"gaussian\", x_loc=0, y_loc=0, scale=1),\n",
    "    dict(name=\"gaussian\", x_loc=10, y_loc=5, scale=1)\n",
    "])"
   ]
  },
  {
   "cell_type": "markdown",
   "metadata": {},
   "source": [
    "Note that `battle.apply_position_gaussian` and `battle.apply_position_uniform` have deprecated and no longer in development.\n",
    "\n",
    "### Changing AI behaviour\n",
    "\n",
    "By default, every army group will initialise by choosing a random enemy. Once that enemy is dead, it will then randomly select a new enemy and move towards it.\n",
    "\n",
    "This can be altered using a number of AI functions, these include:\n",
    "\n",
    "- `random`: selects a random enemy.\n",
    "- `nearest`: selects the closest enemy.\n",
    "- `pack`: selects the most common enemy among your closest allies.\n",
    "- `weakest`: selects the enemy with the lowest HP.\n",
    "- `strongest`: selects the enemy with the highest HP.\n",
    "\n",
    "This can be chosen at the initial stage before the simulation starts (`init_ai`) or during the running of the simulation (`rolling_ai`).\n",
    "\n",
    "Each element in the list corresponds to that army groups AI programming. It effects every unit within that army group."
   ]
  },
  {
   "cell_type": "code",
   "execution_count": 13,
   "metadata": {
    "scrolled": true
   },
   "outputs": [
    {
     "data": {
      "text/plain": [
       "bsm.Battle(init=True, n_armies=2, simulated=False)"
      ]
     },
     "execution_count": 13,
     "metadata": {},
     "output_type": "execute_result"
    }
   ],
   "source": [
    "battle.set_initial_ai([\"random\", \"nearest\"])"
   ]
  },
  {
   "cell_type": "code",
   "execution_count": 14,
   "metadata": {},
   "outputs": [
    {
     "data": {
      "text/plain": [
       "bsm.Battle(init=True, n_armies=2, simulated=False)"
      ]
     },
     "execution_count": 14,
     "metadata": {},
     "output_type": "execute_result"
    }
   ],
   "source": [
    "battle.set_rolling_ai([\"nearest\", \"close_weak\"])"
   ]
  },
  {
   "cell_type": "markdown",
   "metadata": {},
   "source": [
    "#### Checking the composition again...\n",
    "\n",
    "We see that the AIs have changed."
   ]
  },
  {
   "cell_type": "code",
   "execution_count": 15,
   "metadata": {},
   "outputs": [
    {
     "data": {
      "text/html": [
       "<div>\n",
       "<style scoped>\n",
       "    .dataframe tbody tr th:only-of-type {\n",
       "        vertical-align: middle;\n",
       "    }\n",
       "\n",
       "    .dataframe tbody tr th {\n",
       "        vertical-align: top;\n",
       "    }\n",
       "\n",
       "    .dataframe thead th {\n",
       "        text-align: right;\n",
       "    }\n",
       "</style>\n",
       "<table border=\"1\" class=\"dataframe\">\n",
       "  <thead>\n",
       "    <tr style=\"text-align: right;\">\n",
       "      <th></th>\n",
       "      <th>unit</th>\n",
       "      <th>allegiance</th>\n",
       "      <th>n</th>\n",
       "      <th>position</th>\n",
       "      <th>init_ai</th>\n",
       "      <th>rolling_ai</th>\n",
       "      <th>decision_ai</th>\n",
       "    </tr>\n",
       "  </thead>\n",
       "  <tbody>\n",
       "    <tr>\n",
       "      <th>0</th>\n",
       "      <td>b1 battledroid</td>\n",
       "      <td>CIS</td>\n",
       "      <td>10</td>\n",
       "      <td>norm (0.0, 0.0)</td>\n",
       "      <td>random</td>\n",
       "      <td>nearest</td>\n",
       "      <td>aggressive</td>\n",
       "    </tr>\n",
       "    <tr>\n",
       "      <th>1</th>\n",
       "      <td>clone trooper</td>\n",
       "      <td>Republic</td>\n",
       "      <td>5</td>\n",
       "      <td>norm (10.0, 5.0)</td>\n",
       "      <td>nearest</td>\n",
       "      <td>close_weak</td>\n",
       "      <td>aggressive</td>\n",
       "    </tr>\n",
       "  </tbody>\n",
       "</table>\n",
       "</div>"
      ],
      "text/plain": [
       "             unit allegiance   n          position  init_ai  rolling_ai  \\\n",
       "0  b1 battledroid        CIS  10   norm (0.0, 0.0)   random     nearest   \n",
       "1   clone trooper   Republic   5  norm (10.0, 5.0)  nearest  close_weak   \n",
       "\n",
       "  decision_ai  \n",
       "0  aggressive  \n",
       "1  aggressive  "
      ]
     },
     "execution_count": 15,
     "metadata": {},
     "output_type": "execute_result"
    }
   ],
   "source": [
    "battle.composition_"
   ]
  },
  {
   "cell_type": "markdown",
   "metadata": {},
   "source": [
    "## Running the Simulation\n",
    "\n",
    "Simulations are run individually using the `simulate()` function. This function by default requires no parameters, but you can send some if you wish to influence some global attribute regarding the simulation.\n",
    "\n",
    "Simulations can be called directly using the `M_` attribute and functions within the `simulator.py` file, such as `simulate_battle`.\n",
    "\n",
    "By default, the `simulate()` function returns a `pandas.DataFrame` object which details the change of units over time. This should be stored in some object. **WARNING**: Large numbers of units within the simulation may cause this function to run slowly.\n",
    "\n",
    "In addition, the `battle` object also stores an attribute called `sim_` which is the same as the object returned from the `simulate()` function, if you wish to refer to it later."
   ]
  },
  {
   "cell_type": "code",
   "execution_count": 16,
   "metadata": {},
   "outputs": [],
   "source": [
    "S = battle.simulate()"
   ]
  },
  {
   "cell_type": "markdown",
   "metadata": {},
   "source": [
    "### The Results\n",
    "\n",
    "The resulting object always contains *at least* the following columns:\n",
    "\n",
    "- `army`: Which army the unit belongs to\n",
    "- `allegiance`: Which team the unit belongs to\n",
    "- `alive`: A boolean flag that indicates whether this unit is alive\n",
    "- `x`, `y`: X-Y coordinates\n",
    "- `dir_x`, `dir_y`: The direction the unit is pointing from $(0, 0)$ origin."
   ]
  },
  {
   "cell_type": "code",
   "execution_count": 24,
   "metadata": {},
   "outputs": [
    {
     "data": {
      "text/plain": [
       "array([1, 1, 1, 1, 1, 1, 1, 1, 1, 1, 2, 2, 2, 2, 2], dtype=uint8)"
      ]
     },
     "execution_count": 24,
     "metadata": {},
     "output_type": "execute_result"
    }
   ],
   "source": [
    "S[0]['utype']"
   ]
  },
  {
   "cell_type": "code",
   "execution_count": 18,
   "metadata": {},
   "outputs": [],
   "source": [
    "#S.head()"
   ]
  },
  {
   "cell_type": "markdown",
   "metadata": {},
   "source": [
    "## Visualization\n",
    "\n",
    "One of the principle aims of this project was to actively visualise the simulation in 2D space over time. To do this, we provide a number of simulation plotting functions which you can directly use with ease. The easiest way to do this, within a *Jupyter Notebook*, is to call the convenience function `sim_jupyter()`. This function uses the cached `sim_` object (i.e the last fight simulated) and draws the variables using the data stored in the `db_` object."
   ]
  },
  {
   "cell_type": "code",
   "execution_count": 19,
   "metadata": {},
   "outputs": [],
   "source": [
    "import matplotlib.pyplot as plt\n",
    "# you may need to set the automatic animation.writer to ffmpeg, ensure ffmpeg is installed\n",
    "plt.rcParams['animation.writer'] = 'ffmpeg'"
   ]
  },
  {
   "cell_type": "code",
   "execution_count": 20,
   "metadata": {},
   "outputs": [
    {
     "ename": "AttributeError",
     "evalue": "'numpy.ndarray' object has no attribute 'columns'",
     "output_type": "error",
     "traceback": [
      "\u001b[1;31m---------------------------------------------------------------------------\u001b[0m",
      "\u001b[1;31mAttributeError\u001b[0m                            Traceback (most recent call last)",
      "\u001b[1;32m~\\AppData\\Local\\Temp/ipykernel_16144/2928619980.py\u001b[0m in \u001b[0;36m<module>\u001b[1;34m\u001b[0m\n\u001b[1;32m----> 1\u001b[1;33m \u001b[0mbattle\u001b[0m\u001b[1;33m.\u001b[0m\u001b[0msim_jupyter\u001b[0m\u001b[1;33m(\u001b[0m\u001b[1;33m)\u001b[0m\u001b[1;33m\u001b[0m\u001b[1;33m\u001b[0m\u001b[0m\n\u001b[0m",
      "\u001b[1;32m~\\Documents\\Git\\BattleSimulator\\examples\\..\\battlesim\\_battle.py\u001b[0m in \u001b[0;36msim_jupyter\u001b[1;34m(self, func, create_html)\u001b[0m\n\u001b[0;32m    635\u001b[0m         \u001b[0mself\u001b[0m\u001b[1;33m.\u001b[0m\u001b[0m_is_simulated\u001b[0m\u001b[1;33m(\u001b[0m\u001b[1;33m)\u001b[0m\u001b[1;33m\u001b[0m\u001b[1;33m\u001b[0m\u001b[0m\n\u001b[0;32m    636\u001b[0m         \u001b[1;31m# call plotting function - with\u001b[0m\u001b[1;33m\u001b[0m\u001b[1;33m\u001b[0m\u001b[0m\n\u001b[1;32m--> 637\u001b[1;33m         \u001b[0mQ\u001b[0m \u001b[1;33m=\u001b[0m \u001b[0mself\u001b[0m\u001b[1;33m.\u001b[0m\u001b[0m_plot_simulation\u001b[0m\u001b[1;33m(\u001b[0m\u001b[0mfunc\u001b[0m\u001b[1;33m)\u001b[0m\u001b[1;33m\u001b[0m\u001b[1;33m\u001b[0m\u001b[0m\n\u001b[0m\u001b[0;32m    638\u001b[0m \u001b[1;33m\u001b[0m\u001b[0m\n\u001b[0;32m    639\u001b[0m         \u001b[1;32mif\u001b[0m \u001b[0mcreate_html\u001b[0m\u001b[1;33m:\u001b[0m\u001b[1;33m\u001b[0m\u001b[1;33m\u001b[0m\u001b[0m\n",
      "\u001b[1;32m~\\Documents\\Git\\BattleSimulator\\examples\\..\\battlesim\\_battle.py\u001b[0m in \u001b[0;36m_plot_simulation\u001b[1;34m(self, func)\u001b[0m\n\u001b[0;32m    114\u001b[0m         \u001b[1;31m# call plotting function - with or without terra\u001b[0m\u001b[1;33m\u001b[0m\u001b[1;33m\u001b[0m\u001b[0m\n\u001b[0;32m    115\u001b[0m         \u001b[1;32mif\u001b[0m \u001b[0mself\u001b[0m\u001b[1;33m.\u001b[0m\u001b[0mT_\u001b[0m \u001b[1;32mis\u001b[0m \u001b[1;32mnot\u001b[0m \u001b[1;32mNone\u001b[0m\u001b[1;33m:\u001b[0m\u001b[1;33m\u001b[0m\u001b[1;33m\u001b[0m\u001b[0m\n\u001b[1;32m--> 116\u001b[1;33m             \u001b[0mQ\u001b[0m \u001b[1;33m=\u001b[0m \u001b[0mfunc\u001b[0m\u001b[1;33m(\u001b[0m\u001b[0mself\u001b[0m\u001b[1;33m.\u001b[0m\u001b[0msim_\u001b[0m\u001b[1;33m,\u001b[0m \u001b[0mself\u001b[0m\u001b[1;33m.\u001b[0m\u001b[0mT_\u001b[0m\u001b[1;33m,\u001b[0m \u001b[0mlabels\u001b[0m\u001b[1;33m,\u001b[0m \u001b[0mcols\u001b[0m\u001b[1;33m,\u001b[0m \u001b[0mqscore\u001b[0m\u001b[1;33m)\u001b[0m\u001b[1;33m\u001b[0m\u001b[1;33m\u001b[0m\u001b[0m\n\u001b[0m\u001b[0;32m    117\u001b[0m         \u001b[1;32melse\u001b[0m\u001b[1;33m:\u001b[0m\u001b[1;33m\u001b[0m\u001b[1;33m\u001b[0m\u001b[0m\n\u001b[0;32m    118\u001b[0m             \u001b[0mQ\u001b[0m \u001b[1;33m=\u001b[0m \u001b[0mfunc\u001b[0m\u001b[1;33m(\u001b[0m\u001b[0mself\u001b[0m\u001b[1;33m.\u001b[0m\u001b[0msim_\u001b[0m\u001b[1;33m,\u001b[0m \u001b[1;32mNone\u001b[0m\u001b[1;33m,\u001b[0m \u001b[0mlabels\u001b[0m\u001b[1;33m,\u001b[0m \u001b[0mcols\u001b[0m\u001b[1;33m,\u001b[0m \u001b[0mqscore\u001b[0m\u001b[1;33m)\u001b[0m\u001b[1;33m\u001b[0m\u001b[1;33m\u001b[0m\u001b[0m\n",
      "\u001b[1;32m~\\Documents\\Git\\BattleSimulator\\examples\\..\\battlesim\\plot\\_simplot.py\u001b[0m in \u001b[0;36mquiver_fight\u001b[1;34m(frames, terrain, verbose, allegiance_label, allegiance_color, quant_size_map)\u001b[0m\n\u001b[0;32m     62\u001b[0m         \u001b[0mobject\u001b[0m \u001b[0mto\u001b[0m \u001b[0manimate\u001b[0m \u001b[0mthen\u001b[0m \u001b[1;32mfrom\u001b[0m\u001b[1;33m.\u001b[0m\u001b[1;33m\u001b[0m\u001b[1;33m\u001b[0m\u001b[0m\n\u001b[0;32m     63\u001b[0m     \"\"\"\n\u001b[1;32m---> 64\u001b[1;33m     \u001b[0mcheck_columns\u001b[0m\u001b[1;33m(\u001b[0m\u001b[0mframes\u001b[0m\u001b[1;33m,\u001b[0m \u001b[0mframe_columns\u001b[0m\u001b[1;33m(\u001b[0m\u001b[1;33m)\u001b[0m\u001b[1;33m)\u001b[0m\u001b[1;33m\u001b[0m\u001b[1;33m\u001b[0m\u001b[0m\n\u001b[0m\u001b[0;32m     65\u001b[0m \u001b[1;33m\u001b[0m\u001b[0m\n\u001b[0;32m     66\u001b[0m     \u001b[1;31m# set plt.context\u001b[0m\u001b[1;33m\u001b[0m\u001b[1;33m\u001b[0m\u001b[0m\n",
      "\u001b[1;32m~\\Documents\\Git\\BattleSimulator\\examples\\..\\battlesim\\utils.py\u001b[0m in \u001b[0;36mcheck_columns\u001b[1;34m(df, list_of_columns)\u001b[0m\n\u001b[0;32m     19\u001b[0m     \u001b[1;34m\"\"\"Check that list of columns elements are not in df.\"\"\"\u001b[0m\u001b[1;33m\u001b[0m\u001b[1;33m\u001b[0m\u001b[0m\n\u001b[0;32m     20\u001b[0m     \u001b[1;32mfor\u001b[0m \u001b[0ml\u001b[0m \u001b[1;32min\u001b[0m \u001b[0mlist_of_columns\u001b[0m\u001b[1;33m:\u001b[0m\u001b[1;33m\u001b[0m\u001b[1;33m\u001b[0m\u001b[0m\n\u001b[1;32m---> 21\u001b[1;33m         \u001b[1;32mif\u001b[0m \u001b[0ml\u001b[0m \u001b[1;32mnot\u001b[0m \u001b[1;32min\u001b[0m \u001b[0mdf\u001b[0m\u001b[1;33m.\u001b[0m\u001b[0mcolumns\u001b[0m\u001b[1;33m:\u001b[0m\u001b[1;33m\u001b[0m\u001b[1;33m\u001b[0m\u001b[0m\n\u001b[0m\u001b[0;32m     22\u001b[0m             \u001b[1;32mraise\u001b[0m \u001b[0mValueError\u001b[0m\u001b[1;33m(\u001b[0m\u001b[1;34m\"column '{}' not found in dataframe.\"\u001b[0m\u001b[1;33m.\u001b[0m\u001b[0mformat\u001b[0m\u001b[1;33m(\u001b[0m\u001b[0ml\u001b[0m\u001b[1;33m)\u001b[0m\u001b[1;33m)\u001b[0m\u001b[1;33m\u001b[0m\u001b[1;33m\u001b[0m\u001b[0m\n\u001b[0;32m     23\u001b[0m \u001b[1;33m\u001b[0m\u001b[0m\n",
      "\u001b[1;31mAttributeError\u001b[0m: 'numpy.ndarray' object has no attribute 'columns'"
     ]
    }
   ],
   "source": [
    "battle.sim_jupyter()"
   ]
  },
  {
   "cell_type": "markdown",
   "metadata": {},
   "source": [
    "### Generating HTML\n",
    "\n",
    "The returned object from this function is from `matplotlib.animation.FuncAnimation`, an animation object. It contains a crucial function that converts this data into HTML/Javascript such that it can be displayed in Jupyter Notebook, called `to_jshtml()`."
   ]
  },
  {
   "cell_type": "code",
   "execution_count": null,
   "metadata": {},
   "outputs": [],
   "source": [
    "html = battle.sim_jupyter(create_html=True)"
   ]
  },
  {
   "cell_type": "code",
   "execution_count": null,
   "metadata": {},
   "outputs": [],
   "source": [
    "html[:200]"
   ]
  },
  {
   "cell_type": "markdown",
   "metadata": {},
   "source": [
    "### Displaying the HTML\n",
    "\n",
    "IPython display then provides us with a `HTML()` function which converts HTML code text into HTML output.\n",
    "\n",
    "Widgets at the bottom provide interaction to play, pause, rewind etc.\n",
    "\n",
    "### Explaining the GUI\n",
    "\n",
    "Notice that every **unit** is represented as an arrow, with the colours assigned to each **allegiance**, when a unit dies it becomes a static cross (`x`). The arrows move towards each other until in range, then attack, if they have the *aggressive* decision AI stance. The **size** of the arrow determines how powerful/important each unit type is.\n",
    "\n",
    "Note that by default, the correct allegiance labels are passed to each group if you use `sim_jupyter` as a function from the `Battle` object. However you can also pass manual colours for each group if you don't like the defaults."
   ]
  },
  {
   "cell_type": "code",
   "execution_count": null,
   "metadata": {},
   "outputs": [],
   "source": [
    "HTML(html)"
   ]
  },
  {
   "cell_type": "markdown",
   "metadata": {},
   "source": [
    "### Extra Display Options\n",
    "\n",
    "You may notice that random colours and labels have been assigned to **each army group**. This is because the meta-information from our `battle` object which contain labels like `[CIS, Republic]` are not passed to the drawing function. These have to be manually passed within our `quiver_fight()` function.\n",
    "\n",
    "The function accepts a dictionary where the index is a number, referring to the army group, and the value is the text/color to display:"
   ]
  },
  {
   "cell_type": "markdown",
   "metadata": {},
   "source": [
    "There's the end of this first basic introduction to **BATTLESIMULATOR**."
   ]
  }
 ],
 "metadata": {
  "kernelspec": {
   "display_name": "Python 3 (ipykernel)",
   "language": "python",
   "name": "python3"
  },
  "language_info": {
   "codemirror_mode": {
    "name": "ipython",
    "version": 3
   },
   "file_extension": ".py",
   "mimetype": "text/x-python",
   "name": "python",
   "nbconvert_exporter": "python",
   "pygments_lexer": "ipython3",
   "version": "3.9.7"
  }
 },
 "nbformat": 4,
 "nbformat_minor": 4
}
