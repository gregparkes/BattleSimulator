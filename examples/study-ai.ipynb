{
 "cells": [
  {
   "cell_type": "markdown",
   "metadata": {},
   "source": [
    "# Case Study: The Effect of *Rolling AI* choice on Win Rate\n",
    "\n",
    "Here we want to explore the effects of AI choice on the win rate for the different teams. We will be using the Clone Wars dataset for this."
   ]
  },
  {
   "cell_type": "code",
   "execution_count": 1,
   "metadata": {},
   "outputs": [],
   "source": [
    "import sys\n",
    "# map path back to the directory above battlesim/\n",
    "sys.path.insert(0,\"../\")\n",
    "# our main import\n",
    "import battlesim as bsm\n",
    "\n",
    "from IPython.display import HTML\n",
    "%matplotlib inline"
   ]
  },
  {
   "cell_type": "markdown",
   "metadata": {},
   "source": [
    "## Defining Groups\n",
    "\n",
    "Each battle will have the following AI choices:\n",
    "\n",
    "1. All random\n",
    "2. All nearest\n",
    "3. All pack\n",
    "4. All strongest\n",
    "5. CIS random, Republic nearest\n",
    "6. CIS nearest, Republic random\n",
    "7. CIS pack, Republic random\n",
    "8. CIS random, Republic pack\n",
    "\n",
    "We will only affect the **rolling AI**, in all of the above cases we choose the *nearest AI* as an initial choice.\n",
    "\n",
    "In this study, only clone troopers and battledroids will be used to eliminate unit effects.\n",
    "\n",
    "#### Set up"
   ]
  },
  {
   "cell_type": "code",
   "execution_count": 5,
   "metadata": {},
   "outputs": [
    {
     "data": {
      "text/plain": [
       "['random', 'nearest', 'close_weak']"
      ]
     },
     "execution_count": 5,
     "metadata": {},
     "output_type": "execute_result"
    }
   ],
   "source": [
    "bsm.simulation._target.get_function_names()"
   ]
  },
  {
   "cell_type": "code",
   "execution_count": 7,
   "metadata": {},
   "outputs": [],
   "source": [
    "group_name = [\"all random\", \"all nearest\",\"cis random, rep nearest\", \n",
    "              \"cis nearest, rep random\", \"cis close weak, rep random\", \"cis random, rep close weak\"]\n",
    "\n",
    "group_ai = [(\"random\",\"random\"),(\"nearest\",\"nearest\"),\n",
    "            (\"random\",\"nearest\"),(\"nearest\",\"random\"),(\"close_weak\",\"random\"),(\"random\",\"close_weak\")]\n",
    "\n",
    "army_set = [(\"clone trooper\", 75), (\"b1 battledroid\", 250)]\n",
    "pos = [bsm.Distribution(\"gaussian\",loc=0,scale=2), bsm.Distribution(\"gaussian\",loc=10,scale=2)]\n",
    "\n",
    "battles = [(bsm.Battle(\"../datasets/starwars-clonewars.csv\")\n",
    "               .create_army(army_set)\n",
    "               .set_initial_ai([\"nearest\"]*2)\n",
    "               .set_rolling_ai(ai_group)\n",
    "               .apply_position(pos))\n",
    "           for ai_group in group_ai]"
   ]
  },
  {
   "cell_type": "markdown",
   "metadata": {},
   "source": [
    "## Run $k$ simulations for each battle group.\n",
    "\n",
    "$k=50$ seems reasonable."
   ]
  },
  {
   "cell_type": "code",
   "execution_count": 8,
   "metadata": {},
   "outputs": [],
   "source": [
    "import numpy as np\n",
    "import pandas as pd\n",
    "import matplotlib.pyplot as plt"
   ]
  },
  {
   "cell_type": "code",
   "execution_count": 9,
   "metadata": {},
   "outputs": [],
   "source": [
    "k = 50\n",
    "test_id = np.repeat(np.arange(len(group_name)),k)\n",
    "# simulate\n",
    "Test1 = [battle.simulate_k(k) for battle in battles]"
   ]
  },
  {
   "cell_type": "code",
   "execution_count": 10,
   "metadata": {},
   "outputs": [],
   "source": [
    "Test_Results = pd.concat(Test1,axis=0).assign(Sim=test_id)"
   ]
  },
  {
   "cell_type": "markdown",
   "metadata": {},
   "source": [
    "## Results:\n",
    "\n",
    "As we can see, the choice of AI program drastically changes the result outcome distribution for given $k$, especially when the Republic and CIS have **different** AI choices."
   ]
  },
  {
   "cell_type": "code",
   "execution_count": 12,
   "metadata": {},
   "outputs": [
    {
     "data": {
      "image/png": "[encoded data removed]",
      "text/plain": [
       "<Figure size 1800x288 with 6 Axes>"
      ]
     },
     "metadata": {
      "needs_background": "light"
     },
     "output_type": "display_data"
    }
   ],
   "source": [
    "fig, ax = plt.subplots(ncols=len(group_name), figsize=(25,4))\n",
    "nbins = 20\n",
    "for a, name, id_t in zip(ax, group_name, np.arange(len(group_name))):\n",
    "    xaxis = np.linspace(0,1,nbins)\n",
    "    height_rep, _ = np.histogram(Test_Results.query(\"Sim==@id_t\")[\"Republic\"] / 75., bins=xaxis)\n",
    "    height_cis, _ = np.histogram(Test_Results.query(\"Sim==@id_t\")[\"CIS\"] / 250., bins=xaxis)\n",
    "    a.bar(xaxis[:-1],height_rep, color=\"red\", alpha=.3, width=1./nbins, align=\"edge\")\n",
    "    a.bar(xaxis[:-1],height_cis, color=\"blue\", alpha=.3, width=1./nbins, align=\"edge\")\n",
    "    a.set_xlabel(\"% alive\")\n",
    "    a.set_title(name)"
   ]
  },
  {
   "cell_type": "code",
   "execution_count": 72,
   "metadata": {},
   "outputs": [],
   "source": [
    "bat = (bsm.Battle(\"../datasets/starwars-clonewars.csv\")\n",
    "               .create_army(army_set)\n",
    "               .apply_position(pos))"
   ]
  },
  {
   "cell_type": "code",
   "execution_count": 78,
   "metadata": {},
   "outputs": [
    {
     "data": {
      "text/plain": [
       "array([[( 0, -0.914311  , -2.2830849e+00, 103, 35., 45.,  0.6498898 ,  0.7600284 , 0, 2),\n",
       "        ( 0,  0.9416603 , -8.7148947e-01, 103, 35., 45.,  0.62641305,  0.7794913 , 0, 2),\n",
       "        ( 0, -1.2437162 , -3.7277429e+00, 103, 35., 45.,  0.62302786,  0.78219974, 0, 2),\n",
       "        ...,\n",
       "        ( 0, 10.780783  ,  9.9841080e+00,  36, 20., 40., -0.7809694 , -0.62456924, 1, 1),\n",
       "        ( 0, 10.11303   ,  1.0819047e+01,  36, 20., 40., -0.70871276, -0.7054971 , 1, 1),\n",
       "        ( 0,  6.466221  ,  1.0051279e+01,  36, 20., 40., -0.4753999 , -0.87976986, 1, 1)],\n",
       "       [( 1, -0.54582125, -1.8521461e+00, 103, 35., 45.,  0.6486874 ,  0.76105493, 0, 2),\n",
       "        ( 1,  1.2940348 , -4.3300423e-01, 103, 35., 45.,  0.62447596,  0.781044  , 0, 2),\n",
       "        ( 1, -0.88464135, -3.2769310e+00, 103, 35., 45.,  0.6213934 ,  0.78349864, 0, 2),\n",
       "        ...,\n",
       "        ( 1, 10.53189   ,  9.7850590e+00,  36, 20., 40., -0.78499657, -0.6195001 , 1, 1),\n",
       "        ( 1,  9.882634  ,  1.0589696e+01,  36, 20., 40., -0.7086077 , -0.70560277, 1, 1),\n",
       "        ( 1,  6.307966  ,  9.7584152e+00,  36, 20., 40., -0.45264754, -0.89168954, 1, 1)],\n",
       "       [( 2, -0.1718544 , -1.4133997e+00, 103, 35., 45.,  0.64741254,  0.76213974, 0, 2),\n",
       "        ( 2,  1.6429781 ,  3.4257749e-03, 103, 35., 45.,  0.6224011 ,  0.78269845, 0, 2),\n",
       "        ( 2, -0.5316553 , -2.8318603e+00, 103, 35., 45.,  0.61966974,  0.7848627 , 0, 2),\n",
       "        ...,\n",
       "        ( 2, 10.2815275 ,  9.5874786e+00,  36, 20., 40., -0.78955525, -0.6136796 , 1, 1),\n",
       "        ( 2,  9.64982   ,  1.0357869e+01,  36, 20., 40., -0.7084874 , -0.7057235 , 1, 1),\n",
       "        ( 2,  6.1516333 ,  9.4504480e+00,  36, 20., 40., -0.4243786 , -0.9054848 , 1, 1)],\n",
       "       ...,\n",
       "       [(89,  6.333924  ,  6.2874374e+00, 266,  0.,  0.,  0.8988284 ,  0.43830073, 0, 2),\n",
       "        (89,  6.721721  ,  6.4263411e+00, 205,  0.,  0.,  0.6390201 ,  0.7691901 , 0, 2),\n",
       "        (89,  6.0424137 ,  5.5372000e+00, 244,  0.,  0.,  0.65796435,  0.7530491 , 0, 2),\n",
       "        ...,\n",
       "        (89,  7.1910505 ,  7.1751785e+00,  47, 20., 40., -0.4821561 , -0.87608534, 1, 1),\n",
       "        (89,  6.8892736 ,  7.5104766e+00,  48, 20., 40., -0.89543927, -0.4451838 , 1, 1),\n",
       "        (89,  5.744674  ,  7.7840867e+00,  15,  0.,  0., -0.03282519, -0.9994611 , 1, 1)],\n",
       "       [(90,  6.333924  ,  6.2874374e+00, 266,  0.,  0.,  0.8988284 ,  0.43830073, 0, 2),\n",
       "        (90,  6.721721  ,  6.4263411e+00, 205,  0.,  0.,  0.6390201 ,  0.7691901 , 0, 2),\n",
       "        (90,  6.0424137 ,  5.5372000e+00, 244,  0.,  0.,  0.65796435,  0.7530491 , 0, 2),\n",
       "        ...,\n",
       "        (90,  7.1910505 ,  7.1751785e+00,  47, 20., 40., -0.4821561 , -0.87608534, 1, 1),\n",
       "        (90,  6.8892736 ,  7.5104766e+00,  48, 20., 40., -0.89543927, -0.4451838 , 1, 1),\n",
       "        (90,  5.744674  ,  7.7840867e+00,  15,  0.,  0., -0.03282519, -0.9994611 , 1, 1)],\n",
       "       [(91,  6.333924  ,  6.2874374e+00, 266,  0.,  0.,  0.8988284 ,  0.43830073, 0, 2),\n",
       "        (91,  6.721721  ,  6.4263411e+00, 205,  0.,  0.,  0.6390201 ,  0.7691901 , 0, 2),\n",
       "        (91,  6.0424137 ,  5.5372000e+00, 244,  0.,  0.,  0.65796435,  0.7530491 , 0, 2),\n",
       "        ...,\n",
       "        (91,  7.033657  ,  6.8891916e+00,  62, 20., 40., -0.43351388, -0.9011469 , 1, 1),\n",
       "        (91,  6.8892736 ,  7.5104766e+00,  62, 20., 40., -0.31033015, -0.9506289 , 1, 1),\n",
       "        (91,  5.744674  ,  7.7840867e+00,  15,  0.,  0., -0.03282519, -0.9994611 , 1, 1)]],\n",
       "      dtype={'names':['frame','x','y','target','hp','armor','ddx','ddy','team','utype'], 'formats':['<u2','<f4','<f4','<u4','<f4','<f4','<f4','<f4','u1','u1'], 'offsets':[0,4,8,12,16,20,24,28,32,33], 'itemsize':36, 'aligned':True})"
      ]
     },
     "execution_count": 78,
     "metadata": {},
     "output_type": "execute_result"
    }
   ],
   "source": [
    "bat.simulate()"
   ]
  },
  {
   "cell_type": "code",
   "execution_count": 79,
   "metadata": {},
   "outputs": [
    {
     "name": "stdout",
     "output_type": "stream",
     "text": [
      " "
     ]
    }
   ],
   "source": [
    "%prun bat.simulate()"
   ]
  },
  {
   "cell_type": "markdown",
   "metadata": {},
   "source": [
    "# Case Study: AI learning best strategies via RL"
   ]
  },
  {
   "cell_type": "code",
   "execution_count": 75,
   "metadata": {},
   "outputs": [],
   "source": [
    "#!pip install gym\n",
    "#!pip install pyglet"
   ]
  },
  {
   "cell_type": "code",
   "execution_count": 14,
   "metadata": {},
   "outputs": [],
   "source": [
    "import gym"
   ]
  },
  {
   "cell_type": "code",
   "execution_count": 29,
   "metadata": {},
   "outputs": [],
   "source": [
    "env = gym.make(\"CartPole-v1\")\n",
    "obs = env.reset()\n",
    "\n",
    "for _ in range(10000):\n",
    "    env.render()\n",
    "    action = env.action_space.sample()\n",
    "    obs, reward, done, info = env.step(action)\n",
    "    \n",
    "    if done:\n",
    "        obs = env.reset()\n",
    "\n",
    "env.close()"
   ]
  },
  {
   "cell_type": "code",
   "execution_count": 44,
   "metadata": {},
   "outputs": [
    {
     "name": "stdout",
     "output_type": "stream",
     "text": [
      "Discrete(3)\n",
      "Box([-1.2  -0.07], [0.6  0.07], (2,), float32)\n"
     ]
    }
   ],
   "source": [
    "env = gym.make(\"MountainCar-v0\")\n",
    "print(env.action_space)\n",
    "print(env.observation_space)"
   ]
  },
  {
   "cell_type": "code",
   "execution_count": 59,
   "metadata": {},
   "outputs": [],
   "source": [
    "gym.spaces.Box?"
   ]
  },
  {
   "cell_type": "code",
   "execution_count": 46,
   "metadata": {},
   "outputs": [
    {
     "data": {
      "text/plain": [
       "Box([-1.2  -0.07], [0.6  0.07], (2,), float32)"
      ]
     },
     "execution_count": 46,
     "metadata": {},
     "output_type": "execute_result"
    }
   ],
   "source": [
    "env.observation_space"
   ]
  },
  {
   "cell_type": "code",
   "execution_count": null,
   "metadata": {},
   "outputs": [],
   "source": []
  },
  {
   "cell_type": "code",
   "execution_count": null,
   "metadata": {},
   "outputs": [],
   "source": []
  }
 ],
 "metadata": {
  "kernelspec": {
   "display_name": "Python 3 (ipykernel)",
   "language": "python",
   "name": "python3"
  },
  "language_info": {
   "codemirror_mode": {
    "name": "ipython",
    "version": 3
   },
   "file_extension": ".py",
   "mimetype": "text/x-python",
   "name": "python",
   "nbconvert_exporter": "python",
   "pygments_lexer": "ipython3",
   "version": "3.9.7"
  }
 },
 "nbformat": 4,
 "nbformat_minor": 2
}
